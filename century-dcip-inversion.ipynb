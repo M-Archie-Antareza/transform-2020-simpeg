{
 "cells": [
  {
   "cell_type": "markdown",
   "metadata": {},
   "source": [
    "# Inversion of DC & IP data at the Century Deposit\n",
    "\n",
    "The Century Deposit is a Zinc-lead-silver deposit is located 250 km to the NNW of the Mt Isa region in Queensland Australia (Location: 18° 43' 15\"S, 138° 35' 54\"E). \n",
    "\n",
    "<img src=\"./images/Mutton-Figure1-1.png\" width=50%>\n",
    "\n",
    "\n",
    "\n",
    "- https://doi.org/10.1190/1.1444878 \n",
    "\n",
    "- [geologic background](http://www.portergeo.com.au/database/mineinfo.asp?mineid=mn075)\n",
    "\n",
    "For background on DC Resistivity Surveys, see [GPG: DC Resistivity](https://gpg.geosci.xyz/content/DC_resistivity/index.html)\n",
    "\n",
    "In this notebook, we are going to invert the data and see if we can replicate the results presented in [Mutton, 2000](https://doi.org/10.1190/1.1444878). Specifically, we will work with data collected along the line 46800mE. \n",
    "\n",
    "\n",
    "## Motivation: replicate inversion results from 20 years ago!\n",
    "\n",
    "- coarser cells, ... \n",
    "- data set is still valuable \n",
    "\n",
    "The image below shows the Induced Polarization inversion result generated using the UBC 2D DCIP inversion code that was published in [Mutton, 2000](https://doi.org/10.1190/1.1444878). \n",
    "\n",
    "**Can we replicate it with SimPEG?** \n",
    "\n",
    "(and update the colorbar 😉)\n",
    "\n",
    "<img src=\"images/Mutton-Figure5-1.png\" width=80%>"
   ]
  },
  {
   "cell_type": "markdown",
   "metadata": {},
   "source": [
    "## Step 0: Import Dependencies\n",
    "\n",
    "Here are links to the documentation for each of the packages we rely on for this tutorial. \n",
    "\n",
    "**Core Python / Jupyter**\n",
    "- [numpy](https://numpy.org/doc/1.18/): arrays\n",
    "- [matplotlib](https://matplotlib.org/3.2.1/contents.html): plotting\n",
    "- [ipywidgets](https://ipywidgets.readthedocs.io/en/latest/index.html): interactive widgets in jupyter\n",
    "\n",
    "**SimPEG ecosystem**\n",
    "- [discretize](http://discretize.simpeg.xyz/): meshes and differential operators \n",
    "- [pymatsolver](http://pymatsolver.rtfd.io/): wrappers on linear solvers\n",
    "- [SimPEG](http://docs.simpeg.xyz/): Simulation and Parameter Estimation in Geophysics"
   ]
  },
  {
   "cell_type": "code",
   "execution_count": 1,
   "metadata": {},
   "outputs": [],
   "source": [
    "# core python \n",
    "import numpy as np\n",
    "import matplotlib.pyplot as plt\n",
    "from matplotlib.colors import LogNorm\n",
    "import ipywidgets\n",
    "\n",
    "# tools in the simPEG Ecosystem \n",
    "import discretize  # for creating computational meshes\n",
    "\n",
    "# linear solvers\n",
    "try: \n",
    "    from pymatsolver import Pardiso as Solver  # this is a fast linear solver \n",
    "except ImportError:\n",
    "    from SimPEG import SolverLU as Solver  # this will be slower\n",
    "\n",
    "# SimPEG inversion machinery\n",
    "from SimPEG import (\n",
    "    Data, maps,\n",
    "    data_misfit, regularization, optimization, inverse_problem, \n",
    "    inversion, directives\n",
    ") \n",
    "\n",
    "# DC resistivity and IP modules\n",
    "from SimPEG.electromagnetics import resistivity as dc\n",
    "from SimPEG.electromagnetics import induced_polarization as ip"
   ]
  },
  {
   "cell_type": "code",
   "execution_count": 2,
   "metadata": {},
   "outputs": [],
   "source": [
    "# set the font size in the plots\n",
    "from matplotlib import rcParams\n",
    "rcParams[\"font.size\"] = 14"
   ]
  },
  {
   "cell_type": "markdown",
   "metadata": {},
   "source": [
    "## Step 1: Load the data\n",
    "\n",
    "\n",
    "**What are our data?**\n",
    "\n",
    "The survey collected at the Century Deposit uses a dipole-dipole geometry with:\n",
    "- Current Electrodes (A, B): we refer to the source electrodes as \"A\" for the positive electrode and \"B\" for the negative electrode. \n",
    "- Potential Electrodes (M, N): we refer to the positive potential electrode as \"M\" and the negative as \"N\".\n",
    "\n",
    "A datum is the potential difference between the M and N electrodes. \n",
    "\n",
    "<img src=\"https://gpg.geosci.xyz/_images/add1.gif\">\n",
    "\n",
    "<img src=\"https://gpg.geosci.xyz/_images/add2.gif\">"
   ]
  },
  {
   "cell_type": "markdown",
   "metadata": {},
   "source": [
    "The data are stored in the `century` directory. Here, we take a look at what is in that directory. Each folder contains data associated with the named line. "
   ]
  },
  {
   "cell_type": "code",
   "execution_count": 3,
   "metadata": {},
   "outputs": [
    {
     "name": "stdout",
     "output_type": "stream",
     "text": [
      "\u001b[1m\u001b[36m27750N\u001b[m\u001b[m               \u001b[1m\u001b[36m47000E\u001b[m\u001b[m               \u001b[1m\u001b[36mData_in_3D_format\u001b[m\u001b[m\r\n",
      "\u001b[1m\u001b[36m46200E\u001b[m\u001b[m               \u001b[1m\u001b[36m47200E\u001b[m\u001b[m               geologic_section.csv\r\n",
      "\u001b[1m\u001b[36m46800E\u001b[m\u001b[m               \u001b[1m\u001b[36m47700E\u001b[m\u001b[m               \u001b[1m\u001b[36mgmt\u001b[m\u001b[m\r\n"
     ]
    }
   ],
   "source": [
    "!ls ./century/"
   ]
  },
  {
   "cell_type": "markdown",
   "metadata": {},
   "source": [
    "We will focus on the `46800E` line. In that directory, there are several files. The `.OBS` files are the observed data. The other files are previous inversion results from the UBC inversion. For the two `.OBS` files: `POT` referrs to \"Potentials\" - these are our DC data and `IP` referrs to \"Induced Polarization\". We will start by working with the DC resistivity data and so will load up that file first. "
   ]
  },
  {
   "cell_type": "code",
   "execution_count": 4,
   "metadata": {},
   "outputs": [
    {
     "name": "stdout",
     "output_type": "stream",
     "text": [
      "46800IP.OBS  DCMODA.CON   DCMODA.OUT   IPMODA.CHG   IPMODA.OUT\r\n",
      "46800POT.OBS DCMODA.LOG   DCMODA.PRE   IPMODA.LOG   IPMODA.PRE\r\n"
     ]
    }
   ],
   "source": [
    "line = \"46800E\"\n",
    "!ls ./century/{line}\n",
    "\n",
    "dc_data_file = f\"./century/{line}/{line[:-1]}POT.OBS\""
   ]
  },
  {
   "cell_type": "markdown",
   "metadata": {},
   "source": [
    "These file formats are an older version of the UBC DC format and are very similar to the current [UBC DC IP Surface Format](https://giftoolscookbook.readthedocs.io/en/latest/content/fileFormats/dcip2dObsfile.html#surface-format)\n",
    "\n",
    "```\n",
    "Comment line: description of data\n",
    "   n_sources dipole(1) dipole(1) \n",
    "     A_location  B_location   n_receivers\n",
    "   M_location  N_location  measured_potential  standard_deviation\n",
    "   M_location  N_location  measured_potential  standard_deviation\n",
    "     A_location  B_location   n_receivers\n",
    "   M_location  N_location  measured_potential  standard_deviation\n",
    "   M_location  N_location  measured_potential  standard_deviation\n",
    "   ....\n",
    "```"
   ]
  },
  {
   "cell_type": "code",
   "execution_count": 5,
   "metadata": {
    "scrolled": true
   },
   "outputs": [
    {
     "name": "stdout",
     "output_type": "stream",
     "text": [
      "AVG-GDAT 1.22: CENTURY Converted by RES2POT to conductivitie\r\n",
      "   27    1    1\r\n",
      "    26000.000000    26100.000000           2\r\n",
      "   26700.0   26800.0   -.00127    .00006\r\n",
      "   26800.0   26900.0   -.00080    .00004\r\n",
      "    26100.000000    26200.000000           3\r\n",
      "   26700.0   26800.0   -.00164    .00008\r\n",
      "   26800.0   26900.0   -.00099    .00005\r\n",
      "   26900.0   27000.0   -.00063    .00003\r\n",
      "    26200.000000    26300.000000           4\r\n",
      "   26700.0   26800.0   -.00252    .00013\r\n",
      "   26800.0   26900.0   -.00146    .00007\r\n",
      "   26900.0   27000.0   -.00088    .00004\r\n",
      "   27000.0   27100.0   -.00125    .00006\r\n",
      "    26300.000000    26400.000000           5\r\n",
      "   26700.0   26800.0   -.00504    .00025\r\n",
      "   26800.0   26900.0   -.00260    .00013\r\n",
      "   26900.0   27000.0   -.00147    .00007\r\n",
      "   27000.0   27100.0   -.00195    .00010\r\n",
      "   27100.0   27200.0   -.00103    .00005\r\n",
      "    26400.000000    26500.000000           6\r\n",
      "   26700.0   26800.0   -.01048    .00052\r\n",
      "   26800.0   26900.0   -.00472    .00024\r\n",
      "   26900.0   27000.0   -.00249    .00012\r\n",
      "   27000.0   27100.0   -.00300    .00015\r\n",
      "   27100.0   27200.0   -.00146    .00007\r\n",
      "   27200.0   27300.0   -.00122    .00006\r\n",
      "    26500.000000    26600.000000           7\r\n",
      "   26700.0   26800.0   -.02069    .00103\r\n",
      "   26800.0   26900.0   -.00690    .00034\r\n",
      "   26900.0   27000.0   -.00313    .00016\r\n",
      "   27000.0   27100.0   -.00342    .00017\r\n",
      "   27100.0   27200.0   -.00152    .00008\r\n",
      "   27200.0   27300.0   -.00121    .00006\r\n",
      "   27300.0   27400.0   -.00074    .00004\r\n",
      "    26600.000000    26700.000000           7\r\n",
      "   26800.0   26900.0   -.03448    .00172\r\n",
      "   26900.0   27000.0   -.01074    .00054\r\n",
      "   27000.0   27100.0   -.00934    .00047\r\n",
      "   27100.0   27200.0   -.00347    .00017\r\n",
      "   27200.0   27300.0   -.00244    .00012\r\n",
      "   27300.0   27400.0   -.00142    .00007\r\n",
      "   27400.0   27500.0   -.00075    .00004\r\n",
      "    26700.000000    26800.000000           6\r\n",
      "   26900.0   27000.0   -.05464    .00273\r\n",
      "   27000.0   27100.0   -.02931    .00147\r\n",
      "   27100.0   27200.0   -.00769    .00038\r\n",
      "   27200.0   27300.0   -.00446    .00022\r\n",
      "   27300.0   27400.0   -.00238    .00012\r\n",
      "   27400.0   27500.0   -.00112    .00006\r\n",
      "    26800.000000    26900.000000           6\r\n",
      "   27000.0   27100.0   -.09178    .00459\r\n",
      "   27100.0   27200.0   -.01432    .00072\r\n",
      "   27200.0   27300.0   -.00684    .00034\r\n",
      "   27300.0   27400.0   -.00334    .00017\r\n",
      "   27400.0   27500.0   -.00156    .00008\r\n",
      "   27500.0   27600.0   -.00057    .00003\r\n",
      "    26900.000000    27000.000000           6\r\n",
      "   27100.0   27200.0   -.03661    .00183\r\n",
      "   27200.0   27300.0   -.01141    .00057\r\n",
      "   27300.0   27400.0   -.00515    .00026\r\n",
      "   27400.0   27500.0   -.00218    .00011\r\n",
      "   27500.0   27600.0   -.00071    .00004\r\n",
      "   27600.0   27700.0   -.00044    .00002\r\n",
      "    27000.000000    27100.000000           6\r\n",
      "   27200.0   27300.0   -.06844    .00342\r\n",
      "   27300.0   27400.0   -.02600    .00130\r\n",
      "   27400.0   27500.0   -.00971    .00049\r\n",
      "   27500.0   27600.0   -.00257    .00013\r\n",
      "   27600.0   27700.0   -.00139    .00007\r\n",
      "   27700.0   27800.0   -.00094    .00005\r\n",
      "    27100.000000    27200.000000           6\r\n",
      "   27300.0   27400.0   -.04881    .00244\r\n",
      "   27400.0   27500.0   -.01658    .00083\r\n",
      "   27500.0   27600.0   -.00361    .00018\r\n",
      "   27600.0   27700.0   -.00170    .00008\r\n",
      "   27700.0   27800.0   -.00103    .00005\r\n",
      "   27800.0   27900.0   -.00077    .00004\r\n",
      "    27200.000000    27300.000000           6\r\n",
      "   27400.0   27500.0   -.23608    .01180\r\n",
      "   27500.0   27600.0   -.02056    .00103\r\n",
      "   27600.0   27700.0   -.00520    .00026\r\n",
      "   27700.0   27800.0   -.00265    .00013\r\n",
      "   27800.0   27900.0   -.00180    .00009\r\n",
      "   27900.0   28000.0   -.00147    .00007\r\n",
      "    27300.000000    27400.000000           6\r\n",
      "   27500.0   27600.0   -.14165    .00708\r\n",
      "   27600.0   27700.0   -.01565    .00078\r\n",
      "   27700.0   27800.0   -.00504    .00025\r\n",
      "   27800.0   27900.0   -.00300    .00015\r\n",
      "   27900.0   28000.0   -.00206    .00010\r\n",
      "   28000.0   28100.0   -.00199    .00010\r\n",
      "    27400.000000    27500.000000           6\r\n",
      "   27600.0   27700.0   -.10451    .00523\r\n",
      "   27700.0   27800.0   -.01194    .00060\r\n",
      "   27800.0   27900.0   -.00504    .00025\r\n",
      "   27900.0   28000.0   -.00302    .00015\r\n",
      "   28000.0   28100.0   -.00265    .00013\r\n",
      "   28100.0   28200.0   -.00137    .00007\r\n",
      "    27500.000000    27600.000000           6\r\n",
      "   27700.0   27800.0   -.06472    .00324\r\n",
      "   27800.0   27900.0   -.01459    .00073\r\n",
      "   27900.0   28000.0   -.00541    .00027\r\n",
      "   28000.0   28100.0   -.00398    .00020\r\n",
      "   28100.0   28200.0   -.00179    .00009\r\n",
      "   28200.0   28300.0   -.00134    .00007\r\n",
      "    27600.000000    27700.000000           6\r\n",
      "   27800.0   27900.0   -.10186    .00509\r\n",
      "   27900.0   28000.0   -.01857    .00093\r\n",
      "   28000.0   28100.0   -.00971    .00049\r\n",
      "   28100.0   28200.0   -.00334    .00017\r\n",
      "   28200.0   28300.0   -.00211    .00011\r\n",
      "   28300.0   28400.0   -.00131    .00007\r\n",
      "    27700.000000    27800.000000           6\r\n",
      "   27900.0   28000.0   -.06525    .00326\r\n",
      "   28000.0   28100.0   -.02348    .00117\r\n",
      "   28100.0   28200.0   -.00642    .00032\r\n",
      "   28200.0   28300.0   -.00363    .00018\r\n",
      "   28300.0   28400.0   -.00206    .00010\r\n",
      "   28400.0   28500.0   -.00115    .00006\r\n",
      "    27800.000000    27900.000000           6\r\n",
      "   28000.0   28100.0   -.10133    .00507\r\n",
      "   28100.0   28200.0   -.01592    .00080\r\n",
      "   28200.0   28300.0   -.00711    .00036\r\n",
      "   28300.0   28400.0   -.00350    .00018\r\n",
      "   28400.0   28500.0   -.00177    .00009\r\n",
      "   28500.0   28600.0   -.00089    .00004\r\n",
      "    27900.000000    28000.000000           6\r\n",
      "   28100.0   28200.0   -.09178    .00459\r\n",
      "   28200.0   28300.0   -.02666    .00133\r\n",
      "   28300.0   28400.0   -.01019    .00051\r\n",
      "   28400.0   28500.0   -.00430    .00021\r\n",
      "   28500.0   28600.0   -.00194    .00010\r\n",
      "   28600.0   28700.0   -.00198    .00010\r\n",
      "    28000.000000    28100.000000           6\r\n",
      "   28200.0   28300.0   -.17931    .00897\r\n",
      "   28300.0   28400.0   -.04748    .00237\r\n",
      "   28400.0   28500.0   -.01533    .00077\r\n",
      "   28500.0   28600.0   -.00602    .00030\r\n",
      "   28600.0   28700.0   -.00561    .00028\r\n",
      "   28700.0   28800.0   -.00237    .00012\r\n",
      "    28100.000000    28200.000000           6\r\n",
      "   28300.0   28400.0   -.14271    .00714\r\n",
      "   28400.0   28500.0   -.03316    .00166\r\n",
      "   28500.0   28600.0   -.01151    .00058\r\n",
      "   28600.0   28700.0   -.00997    .00050\r\n",
      "   28700.0   28800.0   -.00387    .00019\r\n",
      "   28800.0   28900.0   -.00234    .00012\r\n",
      "    28200.000000    28300.000000           6\r\n",
      "   28400.0   28500.0   -.09072    .00454\r\n",
      "   28500.0   28600.0   -.02520    .00126\r\n",
      "   28600.0   28700.0   -.02064    .00103\r\n",
      "   28700.0   28800.0   -.00743    .00037\r\n",
      "   28800.0   28900.0   -.00432    .00022\r\n",
      "   28900.0   29000.0   -.00382    .00019\r\n",
      "    28300.000000    28400.000000           6\r\n",
      "   28500.0   28600.0   -.06950    .00347\r\n",
      "   28600.0   28700.0   -.04417    .00221\r\n",
      "   28700.0   28800.0   -.01416    .00071\r\n",
      "   28800.0   28900.0   -.00775    .00039\r\n",
      "   28900.0   29000.0   -.00668    .00033\r\n",
      "   29000.0   29100.0   -.00417    .00021\r\n",
      "    28400.000000    28500.000000           6\r\n",
      "   28600.0   28700.0   -.09125    .00456\r\n",
      "   28700.0   28800.0   -.02268    .00113\r\n",
      "   28800.0   28900.0   -.01114    .00056\r\n",
      "   28900.0   29000.0   -.00918    .00046\r\n",
      "   29000.0   29100.0   -.00549    .00027\r\n",
      "   29100.0   29200.0   -.00465    .00023\r\n",
      "    28500.000000    28600.000000           5\r\n",
      "   28700.0   28800.0   -.04456    .00223\r\n",
      "   28800.0   28900.0   -.01671    .00084\r\n",
      "   28900.0   29000.0   -.01220    .00061\r\n",
      "   29000.0   29100.0   -.00703    .00035\r\n",
      "   29100.0   29200.0   -.00578    .00029\r\n",
      "    28600.000000    28700.000000           4\r\n",
      "   28800.0   28900.0   -.07480    .00374\r\n",
      "   28900.0   29000.0   -.04019    .00201\r\n",
      "   29000.0   29100.0   -.02037    .00102\r\n",
      "   29100.0   29200.0   -.01586    .00079\r\n",
      "\r\n"
     ]
    }
   ],
   "source": [
    "!cat {dc_data_file}"
   ]
  },
  {
   "cell_type": "markdown",
   "metadata": {},
   "source": [
    "Next, we write a function to read in these data. Within SimPEG, there are lots of utilities for reading in data, particularly if they are in common formats such as the more recent UBC formats (e.g. see `dc.utils.readUBC_DC2Dpre`). "
   ]
  },
  {
   "cell_type": "code",
   "execution_count": 6,
   "metadata": {},
   "outputs": [],
   "source": [
    "def read_dcip_data(filename):\n",
    "    \"\"\"\n",
    "    Read in a .OBS file from the Century data set into a python dictionary. \n",
    "    The format is the old UBC-GIF DCIP format.\n",
    "    \n",
    "    Parameters\n",
    "    ----------\n",
    "    filename : str\n",
    "        Path to the file to be parsed\n",
    "    \n",
    "    \n",
    "    Returns\n",
    "    -------\n",
    "    dict\n",
    "        A dictionary with the locations of\n",
    "        - a_locations: the positive source electrode locations (numpy array) \n",
    "        - b_locations: the negative source electrode locations (numpy array) \n",
    "        - m_locations: the receiver locations (list of numpy arrays)\n",
    "        - n_locations: the receiver locations (list of numpy arrays)\n",
    "        - n_locations: the receiver locations (list of numpy arrays)\n",
    "        - observed_data: observed data (list of numpy arrays)\n",
    "        - standard_deviations: assigned standard deviations (list of numpy arrays)\n",
    "        - n_sources: number of sources (int)\n",
    "    \n",
    "    \"\"\"\n",
    "    \n",
    "    # read in the text file as a numpy array of strings (each row is an entry)\n",
    "    contents = np.genfromtxt(filename, delimiter=' \\n', dtype=np.str)\n",
    "    \n",
    "    # the second line has the number of sources, current, and data type (voltages if 1)\n",
    "    n_sources = int(contents[1].split()[0])\n",
    "    print(f\"number of sources: {n_sources}\")\n",
    "    \n",
    "    # initialize storage for the electrode locations and data\n",
    "    a_locations = np.zeros(n_sources)\n",
    "    b_locations = np.zeros(n_sources)\n",
    "    m_locations = []\n",
    "    n_locations = []\n",
    "    observed_data = []\n",
    "    standard_deviations = []\n",
    "    \n",
    "    # index to track where we have read in content \n",
    "    content_index = 1 \n",
    "    \n",
    "    # loop over sources \n",
    "    for i in range(n_sources):\n",
    "        # start by reading in the source info \n",
    "        content_index = content_index + 1  # read the next line\n",
    "        a_location, b_location, nrx = contents[content_index].split()  # this is a string\n",
    "\n",
    "        # convert the strings to a float for locations and an int for the number of receivers\n",
    "        a_locations[i] = float(a_location)\n",
    "        b_locations[i] = float(b_location)\n",
    "        nrx = int(nrx)\n",
    "\n",
    "        print(f\"Source {i}: A-loc: {a_location}, B-loc: {b_location}, N receivers: {nrx}\")\n",
    "\n",
    "        # initialize space for receiver locations, observed data associated with this source\n",
    "        m_locations_i, n_locations_i = np.zeros(nrx), np.zeros(nrx)\n",
    "        observed_data_i, standard_deviations_i = np.zeros(nrx), np.zeros(nrx)\n",
    "\n",
    "        # read in the receiver info \n",
    "        for j in range(nrx):\n",
    "            content_index = content_index + 1  # read the next line\n",
    "            m_location, n_location, datum, std = contents[content_index].split()\n",
    "\n",
    "            # convert the locations and data to floats, and store them\n",
    "            m_locations_i[j] = float(m_location)\n",
    "            n_locations_i[j] = float(n_location)\n",
    "            observed_data_i[j] = float(datum)\n",
    "            standard_deviations_i[j] = float(std)\n",
    "\n",
    "        # append the receiver info to the lists\n",
    "        m_locations.append(m_locations_i)\n",
    "        n_locations.append(n_locations_i)\n",
    "        observed_data.append(observed_data_i)\n",
    "        standard_deviations.append(standard_deviations_i)\n",
    "    \n",
    "    return {\n",
    "        \"a_locations\": a_locations,\n",
    "        \"b_locations\": b_locations, \n",
    "        \"m_locations\": m_locations,\n",
    "        \"n_locations\": n_locations,\n",
    "        \"observed_data\": observed_data, \n",
    "        \"standard_deviations\": standard_deviations,\n",
    "        \"n_sources\": n_sources, \n",
    "    }"
   ]
  },
  {
   "cell_type": "code",
   "execution_count": 7,
   "metadata": {},
   "outputs": [
    {
     "name": "stdout",
     "output_type": "stream",
     "text": [
      "number of sources: 27\n",
      "Source 0: A-loc: 26000.000000, B-loc: 26100.000000, N receivers: 2\n",
      "Source 1: A-loc: 26100.000000, B-loc: 26200.000000, N receivers: 3\n",
      "Source 2: A-loc: 26200.000000, B-loc: 26300.000000, N receivers: 4\n",
      "Source 3: A-loc: 26300.000000, B-loc: 26400.000000, N receivers: 5\n",
      "Source 4: A-loc: 26400.000000, B-loc: 26500.000000, N receivers: 6\n",
      "Source 5: A-loc: 26500.000000, B-loc: 26600.000000, N receivers: 7\n",
      "Source 6: A-loc: 26600.000000, B-loc: 26700.000000, N receivers: 7\n",
      "Source 7: A-loc: 26700.000000, B-loc: 26800.000000, N receivers: 6\n",
      "Source 8: A-loc: 26800.000000, B-loc: 26900.000000, N receivers: 6\n",
      "Source 9: A-loc: 26900.000000, B-loc: 27000.000000, N receivers: 6\n",
      "Source 10: A-loc: 27000.000000, B-loc: 27100.000000, N receivers: 6\n",
      "Source 11: A-loc: 27100.000000, B-loc: 27200.000000, N receivers: 6\n",
      "Source 12: A-loc: 27200.000000, B-loc: 27300.000000, N receivers: 6\n",
      "Source 13: A-loc: 27300.000000, B-loc: 27400.000000, N receivers: 6\n",
      "Source 14: A-loc: 27400.000000, B-loc: 27500.000000, N receivers: 6\n",
      "Source 15: A-loc: 27500.000000, B-loc: 27600.000000, N receivers: 6\n",
      "Source 16: A-loc: 27600.000000, B-loc: 27700.000000, N receivers: 6\n",
      "Source 17: A-loc: 27700.000000, B-loc: 27800.000000, N receivers: 6\n",
      "Source 18: A-loc: 27800.000000, B-loc: 27900.000000, N receivers: 6\n",
      "Source 19: A-loc: 27900.000000, B-loc: 28000.000000, N receivers: 6\n",
      "Source 20: A-loc: 28000.000000, B-loc: 28100.000000, N receivers: 6\n",
      "Source 21: A-loc: 28100.000000, B-loc: 28200.000000, N receivers: 6\n",
      "Source 22: A-loc: 28200.000000, B-loc: 28300.000000, N receivers: 6\n",
      "Source 23: A-loc: 28300.000000, B-loc: 28400.000000, N receivers: 6\n",
      "Source 24: A-loc: 28400.000000, B-loc: 28500.000000, N receivers: 6\n",
      "Source 25: A-loc: 28500.000000, B-loc: 28600.000000, N receivers: 5\n",
      "Source 26: A-loc: 28600.000000, B-loc: 28700.000000, N receivers: 4\n"
     ]
    }
   ],
   "source": [
    "dc_data_dict = read_dcip_data(dc_data_file)"
   ]
  },
  {
   "cell_type": "code",
   "execution_count": 8,
   "metadata": {},
   "outputs": [
    {
     "name": "stdout",
     "output_type": "stream",
     "text": [
      "a_locations         : <class 'numpy.ndarray'>\n",
      "b_locations         : <class 'numpy.ndarray'>\n",
      "m_locations         : <class 'list'>\n",
      "n_locations         : <class 'list'>\n",
      "observed_data       : <class 'list'>\n",
      "standard_deviations : <class 'list'>\n",
      "n_sources           : <class 'int'>\n"
     ]
    }
   ],
   "source": [
    "for key, value in dc_data_dict.items():\n",
    "    print(f\"{key:<20}: {type(value)}\")"
   ]
  },
  {
   "cell_type": "code",
   "execution_count": 9,
   "metadata": {},
   "outputs": [
    {
     "data": {
      "text/plain": [
       "array([26000., 26100., 26200., 26300., 26400., 26500., 26600., 26700.,\n",
       "       26800., 26900., 27000., 27100., 27200., 27300., 27400., 27500.,\n",
       "       27600., 27700., 27800., 27900., 28000., 28100., 28200., 28300.,\n",
       "       28400., 28500., 28600.])"
      ]
     },
     "execution_count": 9,
     "metadata": {},
     "output_type": "execute_result"
    }
   ],
   "source": [
    "dc_data_dict[\"a_locations\"]"
   ]
  },
  {
   "cell_type": "code",
   "execution_count": 10,
   "metadata": {},
   "outputs": [
    {
     "data": {
      "text/plain": [
       "27"
      ]
     },
     "execution_count": 10,
     "metadata": {},
     "output_type": "execute_result"
    }
   ],
   "source": [
    "dc_data_dict[\"n_sources\"]"
   ]
  },
  {
   "cell_type": "markdown",
   "metadata": {},
   "source": [
    "At this point, we have not used anything in SimPEG, this is all pure python. Now, we will look at using SimPEG. "
   ]
  },
  {
   "cell_type": "markdown",
   "metadata": {},
   "source": [
    "## Step 2: Create a SimPEG survey\n",
    "\n",
    "In SimPEG, the `survey` object keeps track of the geometry and type of sources and receivers.  Similar to the way the data file was structured, each `source` takes a `receiver_list` which knows about the different receiver types that are \"listening\" to that source. \n",
    "\n",
    "For example, for the first source, we have dipole receivers at 2 different locations. A SimPEG receiver object can have multiple locations, so conceptually, we can think of a receiver object containing all receivers of one type. If we also had a pole-source, then we would add another receiver type to our receiver list. Since we will run 2D simulations and inversions, then the receivers need to be defined in 2D space `[x, z]`. The receivers are on the surface of the Earth, and in this example, we will not consider topography, so they are at `z=0`.\n",
    "\n",
    "```python\n",
    "\n",
    "m_locs = np.array([\n",
    "    [26700.0, 0.],\n",
    "    [26800.0, 0.]\n",
    "])\n",
    "\n",
    "n_locs = np.array([\n",
    "    [26800.0, 0.],\n",
    "    [26900.0, 0.]\n",
    "])\n",
    "\n",
    "rx = dc.receivers.Dipole(locations_m=m_locs, locations_n=n_locs) \n",
    "rx_list = [rx]\n",
    "\n",
    "```\n",
    "\n",
    "Note that in SimPEG, we use column-major / Fortran ordering. So `m_locs[:, 0]` corresponds to all of the x-locations and `m_locs[:, 1]` corresponds to all of the z-locations.  \n",
    "\n",
    "A source in SimPEG has a single location. For the first source: \n",
    "```python \n",
    "\n",
    "a_loc = np.r_[26000.0, 0.]\n",
    "b_loc = np.r_[26100.0, 0.]\n",
    "\n",
    "src = dc.sources.Dipole(location_a=a_loc, location_b=b_loc, receiver_list=rx_list)\n",
    "```\n",
    "\n",
    "Finally, the survey is instantiated with a source list which contains all of the sources and their associated receiver lists\n",
    "```python\n",
    "survey = dc.Survey(source_list=[src1, src2, ...])\n",
    "```"
   ]
  },
  {
   "cell_type": "code",
   "execution_count": 11,
   "metadata": {},
   "outputs": [],
   "source": [
    "# initialize an empty list for each \n",
    "source_list = []\n",
    "\n",
    "for i in range(dc_data_dict[\"n_sources\"]):\n",
    "    \n",
    "    # receiver electrode locations in 2D \n",
    "    m_locs = np.vstack([\n",
    "        dc_data_dict[\"m_locations\"][i], \n",
    "        np.zeros_like(dc_data_dict[\"m_locations\"][i])\n",
    "    ]).T\n",
    "    n_locs = np.vstack([\n",
    "        dc_data_dict[\"n_locations\"][i],\n",
    "        np.zeros_like(dc_data_dict[\"n_locations\"][i])\n",
    "    ]).T\n",
    "    \n",
    "    # construct the receiver object \n",
    "    receivers = dc.receivers.Dipole(locations_m=m_locs, locations_n=n_locs)\n",
    "    \n",
    "    # construct the source \n",
    "    source = dc.sources.Dipole(\n",
    "        location_a=np.r_[dc_data_dict[\"a_locations\"][i], 0.],\n",
    "        location_b=np.r_[dc_data_dict[\"b_locations\"][i], 0.],\n",
    "        receiver_list=[receivers]\n",
    "    )\n",
    "    \n",
    "    # append the new source to the source list\n",
    "    source_list.append(source)"
   ]
  },
  {
   "cell_type": "code",
   "execution_count": 12,
   "metadata": {},
   "outputs": [],
   "source": [
    "survey = dc.Survey(source_list=source_list)"
   ]
  },
  {
   "cell_type": "markdown",
   "metadata": {},
   "source": [
    "### Observed Data \n",
    "\n",
    "The data object keeps track of our observed data, the uncertainties and the survey parameters corresponding to each datum. The order of the data and standard deviations should be identical to how we would unwrap the source and receiver lists. E.g.\n",
    "\n",
    "```\n",
    "dobs = [d(source1, receiver1), d(source1, receiver2), d(source2, receiver1), ...]\n",
    "```\n",
    "\n",
    "Since this is exactly the same order as how we read the data in, we can simply concatenate the data in our dictionary. "
   ]
  },
  {
   "cell_type": "code",
   "execution_count": 13,
   "metadata": {},
   "outputs": [],
   "source": [
    "dc_data = Data(\n",
    "    survey=survey, \n",
    "    dobs=np.hstack(dc_data_dict[\"observed_data\"]),\n",
    "    standard_deviation=np.hstack(dc_data_dict[\"standard_deviations\"])\n",
    ")"
   ]
  },
  {
   "cell_type": "markdown",
   "metadata": {},
   "source": [
    "### Visualizing data in a Pseudosection\n",
    "\n"
   ]
  },
  {
   "cell_type": "code",
   "execution_count": 14,
   "metadata": {},
   "outputs": [
    {
     "data": {
      "image/png": "[encoded data removed]",
      "text/plain": [
       "<Figure size 864x288 with 2 Axes>"
      ]
     },
     "metadata": {
      "needs_background": "light"
     },
     "output_type": "display_data"
    }
   ],
   "source": [
    "# plot psuedosection\n",
    "fig, ax = plt.subplots(1, 1, figsize=(12, 4))\n",
    "dc.utils.plot_pseudosection(\n",
    "    dc_data, data_type=\"potential\",\n",
    "    plot_type=\"contourf\", data_location=True, ax=ax, \n",
    ")\n",
    "ax.set_aspect(1.5)  # some vertical exxageration"
   ]
  },
  {
   "cell_type": "code",
   "execution_count": 15,
   "metadata": {},
   "outputs": [],
   "source": [
    "def plot_building_pseudosection(source_ind=0):\n",
    "    \"\"\"\n",
    "    A plotting function to visualize how a pseudosection is built up. \n",
    "    \"\"\"\n",
    "    \n",
    "    fig, ax = plt.subplots(1, 1, figsize=(12, 4))\n",
    "    mid_x, mid_z = dc.utils.source_receiver_midpoints(dc_data.survey)\n",
    "    ax.plot(mid_x, mid_z, '.k', alpha=0.5)\n",
    "    \n",
    "    # plot the source location\n",
    "    a_loc = dc_data_dict[\"a_locations\"][source_ind]\n",
    "    b_loc = dc_data_dict[\"b_locations\"][source_ind]\n",
    "    src_mid = (a_loc+b_loc)/2\n",
    "    ax.plot(np.r_[a_loc, b_loc], np.r_[0, 0], 'C0.')\n",
    "    ax.plot(src_mid, np.r_[0], 'C0x', ms=6)\n",
    "\n",
    "    # plot the receiver locations\n",
    "    m_locs = dc_data_dict[\"m_locations\"][source_ind]\n",
    "    n_locs = dc_data_dict[\"n_locations\"][source_ind]\n",
    "    rx_mid = (m_locs+n_locs)/2\n",
    "    ax.plot(np.r_[m_locs, n_locs], np.zeros(2*len(m_locs)), 'C1.')\n",
    "    ax.plot(rx_mid, np.zeros_like(m_locs), 'C1x', ms=6)\n",
    "    \n",
    "    # plot where the pseudosection points should be \n",
    "    pseudo_x = (rx_mid + src_mid)/2.\n",
    "    pseudo_z = -np.abs(rx_mid-src_mid)/2.\n",
    "    \n",
    "    ax.plot(np.r_[src_mid, pseudo_x], np.r_[0, pseudo_z], '-k', alpha=0.3)\n",
    "    \n",
    "    for rx_x, px, pz in zip(rx_mid, pseudo_x, pseudo_z): \n",
    "        ax.plot(np.r_[px, rx_x], np.r_[pz, 0], '-k', alpha=0.3)\n",
    "        \n",
    "    ax.plot(pseudo_x, pseudo_z, 'C2o')\n",
    "    ax.set_xlabel(\"Northing (m)\")\n",
    "    ax.set_ylabel(\"n-spacing\")\n",
    "    \n",
    "    ax.set_yticklabels([])\n",
    "    ax.set_xlim([25900, 29300])\n",
    "    ax.set_aspect(1.5) \n",
    "    \n",
    "    "
   ]
  },
  {
   "cell_type": "code",
   "execution_count": 16,
   "metadata": {},
   "outputs": [
    {
     "data": {
      "application/vnd.jupyter.widget-view+json": {
       "model_id": "b4cd6bcc10554d019ddddd5d48b5339a",
       "version_major": 2,
       "version_minor": 0
      },
      "text/plain": [
       "interactive(children=(IntSlider(value=0, description='source_ind', max=26), Output()), _dom_classes=('widget-i…"
      ]
     },
     "metadata": {},
     "output_type": "display_data"
    },
    {
     "data": {
      "text/plain": [
       "<function __main__.plot_building_pseudosection(source_ind=0)>"
      ]
     },
     "execution_count": 16,
     "metadata": {},
     "output_type": "execute_result"
    }
   ],
   "source": [
    "ipywidgets.interact(\n",
    "    plot_building_pseudosection, \n",
    "    source_ind=ipywidgets.IntSlider(min=0, max=int(dc_data_dict[\"n_sources\"])-1, value=0)\n",
    ")"
   ]
  },
  {
   "cell_type": "markdown",
   "metadata": {},
   "source": [
    "### Apparent resistivity\n",
    "\n",
    "Our measured data are potential differences in units of volts. Both the geometry of the sources and receivers as well as the geology influence these values, having both of these factors influence the values can make it challenging to make sense of the data. In order to translate them to something more interpretable, it is common to work with apparent resistivity values, which are derived by considering the potentials that would be measured if the earth were a half-space: \n",
    "\n",
    "$$\n",
    "\\rho_a = \\frac{2 \\pi \\Delta V}{IG}\n",
    "$$\n",
    "\n",
    "Where:\n",
    "- $\\rho_a$ is the apparent resistivity ($\\Omega$ m)\n",
    "- $\\Delta V$ is the measured potential difference (V)\n",
    "- $I$ is the source current (A)\n",
    "- $G$ is the geometric factor which depends on the location of all four electrodes. \n",
    "    $$\n",
    "    G = \\left(\\frac{1}{r_{AM}} - \\frac{1}{r_{BM}} - \\frac{1}{r_{AN}} + \\frac{1}{r_{BN}} \\right)\n",
    "    $$"
   ]
  },
  {
   "cell_type": "code",
   "execution_count": 17,
   "metadata": {},
   "outputs": [
    {
     "data": {
      "text/plain": [
       "Text(0.5, 0, 'Northing (m)')"
      ]
     },
     "execution_count": 17,
     "metadata": {},
     "output_type": "execute_result"
    },
    {
     "data": {
      "image/png": "[encoded data removed]",
      "text/plain": [
       "<Figure size 864x288 with 2 Axes>"
      ]
     },
     "metadata": {
      "needs_background": "light"
     },
     "output_type": "display_data"
    }
   ],
   "source": [
    "# plot psuedosection\n",
    "fig, ax = plt.subplots(1, 1, figsize=(12, 4))\n",
    "dc.utils.plot_pseudosection(\n",
    "    dc_data, data_type=\"apparent resistivity\", \n",
    "    plot_type=\"contourf\", data_location=True, ax=ax, cbar_opts={\"pad\":0.25}\n",
    ")\n",
    "ax.set_aspect(1.5)  # some vertical exxageration\n",
    "ax.set_title(f\"{line} Pseudosection\")\n",
    "ax.set_xlabel(\"Northing (m)\")"
   ]
  },
  {
   "cell_type": "markdown",
   "metadata": {},
   "source": [
    "### Histogram of our data\n",
    "\n",
    "In addition to looking at a 2D pseudosection of the data, a histogram gives us an idea of the distribution of apparent resistivities. For more complex survey geometries (e.g. fully 3D), it is not always clear how to plot data in a pseudosection form, so histograms are a valueable tool for visualizing data and estimating a good background resistivity for the starting and reference models. "
   ]
  },
  {
   "cell_type": "code",
   "execution_count": 18,
   "metadata": {},
   "outputs": [],
   "source": [
    "apparent_resistivity = dc.utils.apparent_resistivity(dc_data)"
   ]
  },
  {
   "cell_type": "code",
   "execution_count": 19,
   "metadata": {},
   "outputs": [
    {
     "data": {
      "text/plain": [
       "Text(0, 0.5, 'log$_{10}(\\\\rho_a)$')"
      ]
     },
     "execution_count": 19,
     "metadata": {},
     "output_type": "execute_result"
    },
    {
     "data": {
      "image/png": "[encoded data removed]",
      "text/plain": [
       "<Figure size 432x288 with 1 Axes>"
      ]
     },
     "metadata": {
      "needs_background": "light"
     },
     "output_type": "display_data"
    }
   ],
   "source": [
    "fig, ax = plt.subplots(1, 1)\n",
    "out = ax.hist(np.log10(apparent_resistivity), bins=30)\n",
    "ax.set_ylabel(\"log$_{10}(\\\\rho_a)$\")"
   ]
  },
  {
   "cell_type": "markdown",
   "metadata": {},
   "source": [
    "estimate a background model "
   ]
  },
  {
   "cell_type": "code",
   "execution_count": 20,
   "metadata": {},
   "outputs": [
    {
     "data": {
      "text/plain": [
       "135.90619481429147"
      ]
     },
     "execution_count": 20,
     "metadata": {},
     "output_type": "execute_result"
    }
   ],
   "source": [
    "# rho0 = 10**np.mean(np.log10(apparent_resistivity))\n",
    "rho0 = np.median(apparent_resistivity)\n",
    "rho0"
   ]
  },
  {
   "cell_type": "markdown",
   "metadata": {},
   "source": [
    "# Step 3: set up the forward simulation machinery\n",
    "\n",
    "Now that we have a sense of our data, we will set up a forward simulation which is responsible for simulating predicted data given a model. \n",
    "\n",
    "The equations we are solving are \n",
    "\n"
   ]
  },
  {
   "cell_type": "markdown",
   "metadata": {},
   "source": [
    "### Step 1: design a Tensor mesh"
   ]
  },
  {
   "cell_type": "code",
   "execution_count": 21,
   "metadata": {},
   "outputs": [
    {
     "name": "stdout",
     "output_type": "stream",
     "text": [
      "We will use a base mesh with 25.0 m x 12.5 m cells\n"
     ]
    }
   ],
   "source": [
    "min_electrode_spacing = np.min(np.abs(survey.locations_a[:, 0] - survey.locations_b[:, 0]))\n",
    "n_cells_per_spacing = 4\n",
    "\n",
    "dx = min_electrode_spacing / n_cells_per_spacing\n",
    "dz = 0.5 * min_electrode_spacing / n_cells_per_spacing\n",
    "\n",
    "print(\n",
    "    f\"We will use a base mesh with {dx} m x {dz} m cells\"\n",
    ")"
   ]
  },
  {
   "cell_type": "markdown",
   "metadata": {},
   "source": [
    "# TODO: find min / max spacing \n",
    "\n",
    "# Add some commentary on boundary conditions \n",
    "- problem: Nodal - neuman boundary condition "
   ]
  },
  {
   "cell_type": "code",
   "execution_count": 22,
   "metadata": {},
   "outputs": [
    {
     "data": {
      "text/plain": [
       "array([26000., 29200.])"
      ]
     },
     "execution_count": 22,
     "metadata": {},
     "output_type": "execute_result"
    }
   ],
   "source": [
    "domain_x = np.r_[\n",
    "    survey.electrode_locations[:, 0].min(),\n",
    "    survey.electrode_locations[:, 0].max()\n",
    "]\n",
    "\n",
    "domain_x"
   ]
  },
  {
   "cell_type": "code",
   "execution_count": 23,
   "metadata": {},
   "outputs": [
    {
     "name": "stdout",
     "output_type": "stream",
     "text": [
      "The maximum seperation is 800.0m\n"
     ]
    },
    {
     "data": {
      "text/plain": [
       "array([-400.,    0.])"
      ]
     },
     "execution_count": 23,
     "metadata": {},
     "output_type": "execute_result"
    }
   ],
   "source": [
    "# find the maximum spacing between source, receiver midpoints\n",
    "mid_ab = (survey.locations_a + survey.locations_b)/2\n",
    "mid_mn = (survey.locations_m + survey.locations_n)/2\n",
    "max_seperation = np.abs(mid_ab - mid_mn).max()\n",
    "print(f\"The maximum seperation is {max_seperation}m\")\n",
    "\n",
    "domain_z = np.r_[-max_seperation/2., 0.]\n",
    "domain_z"
   ]
  },
  {
   "cell_type": "code",
   "execution_count": 24,
   "metadata": {},
   "outputs": [],
   "source": [
    "n_core_extra = 8 \n",
    "n_core_x = np.ceil(np.diff(domain_x)/dx) + n_core_extra*2  # on each side\n",
    "n_core_z = np.ceil(np.diff(domain_z)/dz) + n_core_extra  # just below\n",
    "\n",
    "padding_factor = 1.3\n",
    "n_pad_x = 8\n",
    "n_pad_z = 8"
   ]
  },
  {
   "cell_type": "code",
   "execution_count": 25,
   "metadata": {},
   "outputs": [
    {
     "data": {
      "text/html": [
       "<table>\n",
       "  <tr>\n",
       "    <td style='font-weight: bold; font-size: 1.2em; text-align: center;' colspan='3'>TensorMesh</td>\n",
       "    <td style='font-size: 1.2em; text-align: center;'colspan='4'>7,680 cells</td>\n",
       "  </tr>\n",
       "  <tr>\n",
       "    <th></th>\n",
       "    <th></th>\n",
       "    <th colspan='2' style='padding: 5px 20px 5px 20px;'>MESH EXTENT</th>\n",
       "    <th colspan='2' style='padding: 5px 20px 5px 20px;'>CELL WIDTH</th>\n",
       "    <th style='padding: 5px 20px 5px 20px;'>FACTOR</th>\n",
       "  </tr>\n",
       "  <tr>\n",
       "    <th style='padding: 5px 20px 5px 20px;'>dir</th>\n",
       "    <th style='padding: 5px 20px 5px 20px;'>nC</th>\n",
       "    <th style='padding: 5px 20px 5px 20px;'>min</th>\n",
       "    <th style='padding: 5px 20px 5px 20px;'>max</th>\n",
       "    <th style='padding: 5px 20px 5px 20px;'>min</th>\n",
       "    <th style='padding: 5px 20px 5px 20px;'>max</th>\n",
       "    <th style='padding: 5px 20px 5px 20px;'>max</th>\n",
       "  </tr>\n",
       "  <tr>\n",
       "    <td style='padding: 5px 20px 5px 20px;'>x</td>\n",
       "    <td style='padding: 5px 20px 5px 20px;'>160</td>\n",
       "    <td style='padding: 5px 20px 5px 20px;'>25,024.63</td>\n",
       "    <td style='padding: 5px 20px 5px 20px;'>30,175.37</td>\n",
       "    <td style='padding: 5px 20px 5px 20px;'>25.00</td>\n",
       "    <td style='padding: 5px 20px 5px 20px;'>203.93</td>\n",
       "    <td style='padding: 5px 20px 5px 20px;'>1.30</td>\n",
       "  </tr>\n",
       "  <tr>\n",
       "    <td style='padding: 5px 20px 5px 20px;'>y</td>\n",
       "    <td style='padding: 5px 20px 5px 20px;'>48</td>\n",
       "    <td style='padding: 5px 20px 5px 20px;'>-887.69</td>\n",
       "    <td style='padding: 5px 20px 5px 20px;'>-0.00</td>\n",
       "    <td style='padding: 5px 20px 5px 20px;'>12.50</td>\n",
       "    <td style='padding: 5px 20px 5px 20px;'>101.97</td>\n",
       "    <td style='padding: 5px 20px 5px 20px;'>1.30</td>\n",
       "  </tr>\n",
       "</table>\n"
      ],
      "text/plain": [
       "\n",
       "  TensorMesh: 7,680 cells\n",
       "\n",
       "                      MESH EXTENT             CELL WIDTH      FACTOR\n",
       "  dir    nC        min           max         min       max      max\n",
       "  ---   ---  ---------------------------  ------------------  ------\n",
       "   x    160     25,024.63     30,175.37     25.00    203.93    1.30\n",
       "   y     48       -887.69         -0.00     12.50    101.97    1.30\n"
      ]
     },
     "execution_count": 25,
     "metadata": {},
     "output_type": "execute_result"
    }
   ],
   "source": [
    "hx = [(dx, n_pad_x, -padding_factor), (dx, n_core_x), (dx, n_pad_x, padding_factor)]\n",
    "hz = [(dz, n_pad_z, -padding_factor), (dz, n_core_z)]\n",
    "\n",
    "mesh = discretize.TensorMesh([hx, hz])\n",
    "\n",
    "mesh.x0 = np.r_[\n",
    "    -mesh.hx[:n_pad_x + n_core_extra].sum() + domain_x.min(),\n",
    "    -mesh.hy.sum()\n",
    "]\n",
    "\n",
    "mesh"
   ]
  },
  {
   "cell_type": "code",
   "execution_count": 26,
   "metadata": {},
   "outputs": [
    {
     "data": {
      "text/plain": [
       "<matplotlib.axes._subplots.AxesSubplot at 0x12e60e5f8>"
      ]
     },
     "execution_count": 26,
     "metadata": {},
     "output_type": "execute_result"
    },
    {
     "data": {
      "image/png": "[encoded data removed]",
      "text/plain": [
       "<Figure size 432x288 with 1 Axes>"
      ]
     },
     "metadata": {
      "needs_background": "light"
     },
     "output_type": "display_data"
    }
   ],
   "source": [
    "mesh.plotGrid()"
   ]
  },
  {
   "cell_type": "markdown",
   "metadata": {},
   "source": [
    "## Step 2: Construct the forward simulation\n",
    "\n",
    "Image of a cell with where things are discretized"
   ]
  },
  {
   "cell_type": "code",
   "execution_count": 27,
   "metadata": {},
   "outputs": [],
   "source": [
    "# forward simulation \n",
    "# Use Exponential Map: m = log(rho)\n",
    "mapping = maps.ExpMap(mesh)\n",
    "\n",
    "# Generate 2.5D DC problem\n",
    "# \"N\" means potential is defined at nodes\n",
    "simulation = dc.simulation_2d.Simulation2DNodal(\n",
    "    mesh, rhoMap=mapping, solver=Solver, survey=survey, storeJ=True\n",
    ")"
   ]
  },
  {
   "cell_type": "code",
   "execution_count": 28,
   "metadata": {},
   "outputs": [
    {
     "name": "stdout",
     "output_type": "stream",
     "text": [
      "CPU times: user 2.03 s, sys: 154 ms, total: 2.18 s\n",
      "Wall time: 618 ms\n"
     ]
    }
   ],
   "source": [
    "%%time \n",
    "\n",
    "# run the forward simulation over the half-space & plot apparent resistivities\n",
    "m0 = np.ones(mesh.nC) * np.log(rho0)\n",
    "d0 = simulation.make_synthetic_data(m0)"
   ]
  },
  {
   "cell_type": "code",
   "execution_count": 29,
   "metadata": {},
   "outputs": [
    {
     "data": {
      "text/plain": [
       "135.90619481429147"
      ]
     },
     "execution_count": 29,
     "metadata": {},
     "output_type": "execute_result"
    }
   ],
   "source": [
    "rho0"
   ]
  },
  {
   "cell_type": "code",
   "execution_count": 40,
   "metadata": {},
   "outputs": [
    {
     "data": {
      "text/plain": [
       "Text(0, 0.5, 'Pseudo-depth')"
      ]
     },
     "execution_count": 40,
     "metadata": {},
     "output_type": "execute_result"
    },
    {
     "data": {
      "image/png": "[encoded data removed]",
      "text/plain": [
       "<Figure size 864x288 with 2 Axes>"
      ]
     },
     "metadata": {
      "needs_background": "light"
     },
     "output_type": "display_data"
    }
   ],
   "source": [
    "# plot psuedosection\n",
    "fig, ax = plt.subplots(1, 1, figsize=(12, 4))\n",
    "\n",
    "clim = np.r_[apparent_resistivity.min(), apparent_resistivity.max()]\n",
    "dc.utils.plot_pseudosection(\n",
    "    d0, data_type=\"apparent resistivity\", #clim=clim,\n",
    "    plot_type=\"pcolor\", data_location=True, ax=ax, \n",
    "    cbar_opts={\"pad\":0.25}\n",
    ")\n",
    "ax.set_aspect(1.5)  # some vertical exxageration\n",
    "ax.set_title(f\"{line} Pseudosection\")\n",
    "ax.set_xlabel(\"Northing (m)\")\n",
    "ax.set_ylabel(\"Pseudo-depth\")\n"
   ]
  },
  {
   "cell_type": "markdown",
   "metadata": {},
   "source": [
    "# Set up the inversion"
   ]
  },
  {
   "cell_type": "code",
   "execution_count": 31,
   "metadata": {},
   "outputs": [],
   "source": [
    "# set up inversion \n",
    "dmisfit = data_misfit.L2DataMisfit(data=dc_data, simulation=simulation)\n",
    "\n",
    "# Related to inversion\n",
    "reg = regularization.Tikhonov(\n",
    "    mesh, \n",
    "    alpha_s=1./mesh.hx.min()**2,\n",
    "    alpha_x=1, alpha_y=1,\n",
    ")"
   ]
  },
  {
   "cell_type": "code",
   "execution_count": 32,
   "metadata": {},
   "outputs": [
    {
     "name": "stdout",
     "output_type": "stream",
     "text": [
      "SimPEG.InvProblem will set Regularization.mref to m0.\n",
      "\n",
      "        SimPEG.InvProblem is setting bfgsH0 to the inverse of the eval2Deriv.\n",
      "        ***Done using same Solver and solverOpts as the problem***\n",
      "model has any nan: 0\n",
      "============================ Inexact Gauss Newton ============================\n",
      "  #     beta     phi_d     phi_m       f      |proj(x-g)-x|  LS    Comment   \n",
      "-----------------------------------------------------------------------------\n",
      "x0 has any nan: 0\n",
      "   0  4.11e+00  1.14e+04  0.00e+00  1.14e+04    2.93e+03      0              \n",
      "   1  4.11e+00  1.97e+03  4.61e+01  2.16e+03    4.32e+02      0              \n",
      "   2  1.03e+00  4.83e+02  1.36e+02  6.22e+02    1.18e+02      0   Skip BFGS  \n",
      "   3  1.03e+00  8.49e+01  2.35e+02  3.26e+02    4.58e+01      0   Skip BFGS  \n",
      "------------------------- STOP! -------------------------\n",
      "1 : |fc-fOld| = 0.0000e+00 <= tolF*(1+|f0|) = 1.1353e+03\n",
      "1 : |xc-x_last| = 2.1219e+00 <= tolX*(1+|x0|) = 4.3146e+01\n",
      "0 : |proj(x-g)-x|    = 4.5787e+01 <= tolG          = 1.0000e-01\n",
      "0 : |proj(x-g)-x|    = 4.5787e+01 <= 1e3*eps       = 1.0000e-02\n",
      "0 : maxIter   =      20    <= iter          =      4\n",
      "------------------------- DONE! -------------------------\n"
     ]
    }
   ],
   "source": [
    "opt = optimization.InexactGaussNewton(maxIter=20)\n",
    "invProb = inverse_problem.BaseInvProblem(dmisfit, reg, opt)\n",
    "\n",
    "# directives\n",
    "beta = directives.BetaSchedule(coolingFactor=4, coolingRate=2)\n",
    "betaest = directives.BetaEstimate_ByEig(beta0_ratio=1e0)\n",
    "target = directives.TargetMisfit()\n",
    "\n",
    "inv = inversion.BaseInversion(\n",
    "    invProb, directiveList=[\n",
    "        beta, target, betaest \n",
    "    ]\n",
    ")\n",
    "opt.remember('xc')\n",
    "\n",
    "# Run inversion\n",
    "mopt = inv.run(m0)"
   ]
  },
  {
   "cell_type": "code",
   "execution_count": 33,
   "metadata": {
    "scrolled": false
   },
   "outputs": [
    {
     "data": {
      "image/png": "[encoded data removed]",
      "text/plain": [
       "<Figure size 864x576 with 4 Axes>"
      ]
     },
     "metadata": {
      "needs_background": "light"
     },
     "output_type": "display_data"
    }
   ],
   "source": [
    "# plot psuedosection\n",
    "fig, ax = plt.subplots(2, 1, figsize=(12, 8))\n",
    "\n",
    "clim = np.r_[apparent_resistivity.min(), apparent_resistivity.max()]\n",
    "\n",
    "for a, data, title in zip(\n",
    "    ax,\n",
    "    [dc_data.dobs, invProb.dpred],\n",
    "    [\"true\", \"recovered\"]\n",
    "): \n",
    "    dc.utils.plot_pseudosection(\n",
    "        dc_data, dobs=data, data_type=\"apparent resistivity\",\n",
    "        plot_type=\"contourf\", data_location=True, ax=a, \n",
    "        cbar_opts={\"pad\":0.25}, clim=clim\n",
    "    )\n",
    "    a.set_title(title)\n",
    "\n",
    "\n",
    "for a in ax: \n",
    "    a.set_aspect(1.5)  # some vertical exxageration\n",
    "    a.set_xlabel(\"Northing (m)\")\n",
    "    a.set_ylabel(\"Pseudo-depth\")\n",
    "\n",
    "plt.tight_layout()\n",
    "\n"
   ]
  },
  {
   "cell_type": "code",
   "execution_count": 34,
   "metadata": {},
   "outputs": [
    {
     "data": {
      "image/png": "[encoded data removed]",
      "text/plain": [
       "<Figure size 864x288 with 2 Axes>"
      ]
     },
     "metadata": {
      "needs_background": "light"
     },
     "output_type": "display_data"
    }
   ],
   "source": [
    "# plot misfit\n",
    "fig, ax = plt.subplots(1, 1, figsize=(12, 4))\n",
    "\n",
    "dc.utils.plot_pseudosection(\n",
    "    dc_data, dobs=invProb.dpred, data_type=\"misfit\",\n",
    "    plot_type=\"contourf\", data_location=True, ax=ax, \n",
    "    cbar_opts={\"pad\":0.25}\n",
    ")\n",
    "\n",
    "ax.set_title(\"misfit\")\n",
    "ax.set_aspect(1.5)  # some vertical exxageration\n",
    "ax.set_xlabel(\"Northing (m)\")\n",
    "ax.set_ylabel(\"Pseudo-depth\")\n",
    "\n",
    "plt.tight_layout()\n",
    "\n"
   ]
  },
  {
   "cell_type": "code",
   "execution_count": 35,
   "metadata": {},
   "outputs": [],
   "source": [
    "# run inversion, plot tikhonov curves\n",
    "\n",
    "def load_leapfrog_geologic_section(filename=\"./century/geologic_section.csv\"):\n",
    "    fid = open(filename, 'r')\n",
    "    lines = fid.readlines()\n",
    "    data = []\n",
    "    data_tmp = []\n",
    "    for line in lines[2:]:\n",
    "        line_data = (line.split(',')[:3])\n",
    "        if 'End' in line:\n",
    "            data.append(np.vstack(data_tmp)[:,[0, 2]])\n",
    "            data_tmp = []\n",
    "        else:\n",
    "            data_tmp.append(np.array(line_data, dtype=float))\n",
    "    return data"
   ]
  },
  {
   "cell_type": "code",
   "execution_count": 36,
   "metadata": {},
   "outputs": [],
   "source": [
    "geologic_section = load_leapfrog_geologic_section()"
   ]
  },
  {
   "cell_type": "code",
   "execution_count": 37,
   "metadata": {},
   "outputs": [
    {
     "data": {
      "image/png": "[encoded data removed]",
      "text/plain": [
       "<Figure size 720x360 with 2 Axes>"
      ]
     },
     "metadata": {
      "needs_background": "light"
     },
     "output_type": "display_data"
    }
   ],
   "source": [
    "fig, ax = plt.subplots(1,1, figsize=(10, 5))\n",
    "rho = (mapping*mopt)\n",
    "out = mesh.plotImage(\n",
    "    rho, pcolorOpts={'norm':LogNorm(), 'cmap':'Spectral'}, ax=ax,\n",
    "    clim=(30, 1000)\n",
    ")\n",
    "for data in geologic_section:\n",
    "    ax.plot(data[:,0], data[:,1], 'k--', alpha=0.5)\n",
    "ax.set_xlim(domain_x)\n",
    "ax.set_ylim((-400, 0))\n",
    "cb = plt.colorbar(out[0], fraction=0.05, orientation='horizontal', ax=ax)\n",
    "cb.set_label(\"Resistivity ($\\Omega$m)\")\n",
    "ax.set_aspect(1.)\n",
    "ax.set_xlabel('Easting (m)')\n",
    "ax.set_ylabel('Elevation (m)')\n",
    "plt.tight_layout()"
   ]
  },
  {
   "cell_type": "markdown",
   "metadata": {},
   "source": [
    "<img src=\"images/Mutton-Figure2-1.png\">"
   ]
  },
  {
   "cell_type": "markdown",
   "metadata": {},
   "source": [
    "# extension to IP\n",
    "\n",
    "- data sensitive to multiple physical properties \n",
    "- linear problem "
   ]
  },
  {
   "cell_type": "code",
   "execution_count": null,
   "metadata": {},
   "outputs": [],
   "source": []
  }
 ],
 "metadata": {
  "kernelspec": {
   "display_name": "Python 3",
   "language": "python",
   "name": "python3"
  },
  "language_info": {
   "codemirror_mode": {
    "name": "ipython",
    "version": 3
   },
   "file_extension": ".py",
   "mimetype": "text/x-python",
   "name": "python",
   "nbconvert_exporter": "python",
   "pygments_lexer": "ipython3",
   "version": "3.7.3"
  }
 },
 "nbformat": 4,
 "nbformat_minor": 4
}
