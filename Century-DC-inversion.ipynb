{
 "cells": [
  {
   "cell_type": "markdown",
   "metadata": {},
   "source": [
    "# Inversion of DC IP data at the Century Deposit\n",
    "\n",
    "\n",
    "Northeastern Australia (Mt. Isa region) \n",
    "\n",
    "Zinc-lead-silver deposit is located 250 km to the NNW of Mt Isa and 375 km SW of McArthur River (#Location: 18° 43' 15\"S, 138° 35' 54\"E).\n",
    "\n",
    "- [geologic background](http://www.portergeo.com.au/database/mineinfo.asp?mineid=mn075)"
   ]
  },
  {
   "cell_type": "code",
   "execution_count": 34,
   "metadata": {},
   "outputs": [],
   "source": [
    "import numpy as np\n",
    "import matplotlib.pyplot as plt\n",
    "import ipywidgets\n",
    "\n",
    "import discretize\n",
    "\n",
    "from SimPEG import Data, maps\n",
    "from SimPEG.electromagnetics import resistivity as dc"
   ]
  },
  {
   "cell_type": "markdown",
   "metadata": {},
   "source": [
    "## Data\n",
    "- dipole-dipole survey"
   ]
  },
  {
   "cell_type": "code",
   "execution_count": 2,
   "metadata": {},
   "outputs": [],
   "source": [
    "dc_data_file = \"./century/46800POT.OBS\""
   ]
  },
  {
   "cell_type": "code",
   "execution_count": 3,
   "metadata": {},
   "outputs": [
    {
     "name": "stdout",
     "output_type": "stream",
     "text": [
      "AVG-GDAT 1.22: CENTURY Converted by RES2POT to conductivitie\r\n",
      "   27    1    1\r\n",
      "    26000.000000    26100.000000           2\r\n",
      "   26700.0   26800.0    .00127    .00006\r\n",
      "   26800.0   26900.0    .00080    .00004\r\n",
      "    26100.000000    26200.000000           3\r\n",
      "   26700.0   26800.0    .00164    .00008\r\n",
      "   26800.0   26900.0    .00099    .00005\r\n",
      "   26900.0   27000.0    .00063    .00003\r\n",
      "    26200.000000    26300.000000           4\r\n",
      "   26700.0   26800.0    .00252    .00013\r\n",
      "   26800.0   26900.0    .00146    .00007\r\n",
      "   26900.0   27000.0    .00088    .00004\r\n",
      "   27000.0   27100.0    .00125    .00006\r\n",
      "    26300.000000    26400.000000           5\r\n",
      "   26700.0   26800.0    .00504    .00025\r\n",
      "   26800.0   26900.0    .00260    .00013\r\n",
      "   26900.0   27000.0    .00147    .00007\r\n",
      "   27000.0   27100.0    .00195    .00010\r\n",
      "   27100.0   27200.0    .00103    .00005\r\n",
      "    26400.000000    26500.000000           6\r\n",
      "   26700.0   26800.0    .01048    .00052\r\n",
      "   26800.0   26900.0    .00472    .00024\r\n",
      "   26900.0   27000.0    .00249    .00012\r\n",
      "   27000.0   27100.0    .00300    .00015\r\n",
      "   27100.0   27200.0    .00146    .00007\r\n",
      "   27200.0   27300.0    .00122    .00006\r\n",
      "    26500.000000    26600.000000           7\r\n",
      "   26700.0   26800.0    .02069    .00103\r\n",
      "   26800.0   26900.0    .00690    .00034\r\n",
      "   26900.0   27000.0    .00313    .00016\r\n",
      "   27000.0   27100.0    .00342    .00017\r\n",
      "   27100.0   27200.0    .00152    .00008\r\n",
      "   27200.0   27300.0    .00121    .00006\r\n",
      "   27300.0   27400.0    .00074    .00004\r\n",
      "    26600.000000    26700.000000           7\r\n",
      "   26800.0   26900.0    .03448    .00172\r\n",
      "   26900.0   27000.0    .01074    .00054\r\n",
      "   27000.0   27100.0    .00934    .00047\r\n",
      "   27100.0   27200.0    .00347    .00017\r\n",
      "   27200.0   27300.0    .00244    .00012\r\n",
      "   27300.0   27400.0    .00142    .00007\r\n",
      "   27400.0   27500.0    .00075    .00004\r\n",
      "    26700.000000    26800.000000           6\r\n",
      "   26900.0   27000.0    .05464    .00273\r\n",
      "   27000.0   27100.0    .02931    .00147\r\n",
      "   27100.0   27200.0    .00769    .00038\r\n",
      "   27200.0   27300.0    .00446    .00022\r\n",
      "   27300.0   27400.0    .00238    .00012\r\n",
      "   27400.0   27500.0    .00112    .00006\r\n",
      "    26800.000000    26900.000000           6\r\n",
      "   27000.0   27100.0    .09178    .00459\r\n",
      "   27100.0   27200.0    .01432    .00072\r\n",
      "   27200.0   27300.0    .00684    .00034\r\n",
      "   27300.0   27400.0    .00334    .00017\r\n",
      "   27400.0   27500.0    .00156    .00008\r\n",
      "   27500.0   27600.0    .00057    .00003\r\n",
      "    26900.000000    27000.000000           6\r\n",
      "   27100.0   27200.0    .03661    .00183\r\n",
      "   27200.0   27300.0    .01141    .00057\r\n",
      "   27300.0   27400.0    .00515    .00026\r\n",
      "   27400.0   27500.0    .00218    .00011\r\n",
      "   27500.0   27600.0    .00071    .00004\r\n",
      "   27600.0   27700.0    .00044    .00002\r\n",
      "    27000.000000    27100.000000           6\r\n",
      "   27200.0   27300.0    .06844    .00342\r\n",
      "   27300.0   27400.0    .02600    .00130\r\n",
      "   27400.0   27500.0    .00971    .00049\r\n",
      "   27500.0   27600.0    .00257    .00013\r\n",
      "   27600.0   27700.0    .00139    .00007\r\n",
      "   27700.0   27800.0    .00094    .00005\r\n",
      "    27100.000000    27200.000000           6\r\n",
      "   27300.0   27400.0    .04881    .00244\r\n",
      "   27400.0   27500.0    .01658    .00083\r\n",
      "   27500.0   27600.0    .00361    .00018\r\n",
      "   27600.0   27700.0    .00170    .00008\r\n",
      "   27700.0   27800.0    .00103    .00005\r\n",
      "   27800.0   27900.0    .00077    .00004\r\n",
      "    27200.000000    27300.000000           6\r\n",
      "   27400.0   27500.0    .23608    .01180\r\n",
      "   27500.0   27600.0    .02056    .00103\r\n",
      "   27600.0   27700.0    .00520    .00026\r\n",
      "   27700.0   27800.0    .00265    .00013\r\n",
      "   27800.0   27900.0    .00180    .00009\r\n",
      "   27900.0   28000.0    .00147    .00007\r\n",
      "    27300.000000    27400.000000           6\r\n",
      "   27500.0   27600.0    .14165    .00708\r\n",
      "   27600.0   27700.0    .01565    .00078\r\n",
      "   27700.0   27800.0    .00504    .00025\r\n",
      "   27800.0   27900.0    .00300    .00015\r\n",
      "   27900.0   28000.0    .00206    .00010\r\n",
      "   28000.0   28100.0    .00199    .00010\r\n",
      "    27400.000000    27500.000000           6\r\n",
      "   27600.0   27700.0    .10451    .00523\r\n",
      "   27700.0   27800.0    .01194    .00060\r\n",
      "   27800.0   27900.0    .00504    .00025\r\n",
      "   27900.0   28000.0    .00302    .00015\r\n",
      "   28000.0   28100.0    .00265    .00013\r\n",
      "   28100.0   28200.0    .00137    .00007\r\n",
      "    27500.000000    27600.000000           6\r\n",
      "   27700.0   27800.0    .06472    .00324\r\n",
      "   27800.0   27900.0    .01459    .00073\r\n",
      "   27900.0   28000.0    .00541    .00027\r\n",
      "   28000.0   28100.0    .00398    .00020\r\n",
      "   28100.0   28200.0    .00179    .00009\r\n",
      "   28200.0   28300.0    .00134    .00007\r\n",
      "    27600.000000    27700.000000           6\r\n",
      "   27800.0   27900.0    .10186    .00509\r\n",
      "   27900.0   28000.0    .01857    .00093\r\n",
      "   28000.0   28100.0    .00971    .00049\r\n",
      "   28100.0   28200.0    .00334    .00017\r\n",
      "   28200.0   28300.0    .00211    .00011\r\n",
      "   28300.0   28400.0    .00131    .00007\r\n",
      "    27700.000000    27800.000000           6\r\n",
      "   27900.0   28000.0    .06525    .00326\r\n",
      "   28000.0   28100.0    .02348    .00117\r\n",
      "   28100.0   28200.0    .00642    .00032\r\n",
      "   28200.0   28300.0    .00363    .00018\r\n",
      "   28300.0   28400.0    .00206    .00010\r\n",
      "   28400.0   28500.0    .00115    .00006\r\n",
      "    27800.000000    27900.000000           6\r\n",
      "   28000.0   28100.0    .10133    .00507\r\n",
      "   28100.0   28200.0    .01592    .00080\r\n",
      "   28200.0   28300.0    .00711    .00036\r\n",
      "   28300.0   28400.0    .00350    .00018\r\n",
      "   28400.0   28500.0    .00177    .00009\r\n",
      "   28500.0   28600.0    .00089    .00004\r\n",
      "    27900.000000    28000.000000           6\r\n",
      "   28100.0   28200.0    .09178    .00459\r\n",
      "   28200.0   28300.0    .02666    .00133\r\n",
      "   28300.0   28400.0    .01019    .00051\r\n",
      "   28400.0   28500.0    .00430    .00021\r\n",
      "   28500.0   28600.0    .00194    .00010\r\n",
      "   28600.0   28700.0    .00198    .00010\r\n",
      "    28000.000000    28100.000000           6\r\n",
      "   28200.0   28300.0    .17931    .00897\r\n",
      "   28300.0   28400.0    .04748    .00237\r\n",
      "   28400.0   28500.0    .01533    .00077\r\n",
      "   28500.0   28600.0    .00602    .00030\r\n",
      "   28600.0   28700.0    .00561    .00028\r\n",
      "   28700.0   28800.0    .00237    .00012\r\n",
      "    28100.000000    28200.000000           6\r\n",
      "   28300.0   28400.0    .14271    .00714\r\n",
      "   28400.0   28500.0    .03316    .00166\r\n",
      "   28500.0   28600.0    .01151    .00058\r\n",
      "   28600.0   28700.0    .00997    .00050\r\n",
      "   28700.0   28800.0    .00387    .00019\r\n",
      "   28800.0   28900.0    .00234    .00012\r\n",
      "    28200.000000    28300.000000           6\r\n",
      "   28400.0   28500.0    .09072    .00454\r\n",
      "   28500.0   28600.0    .02520    .00126\r\n",
      "   28600.0   28700.0    .02064    .00103\r\n",
      "   28700.0   28800.0    .00743    .00037\r\n",
      "   28800.0   28900.0    .00432    .00022\r\n",
      "   28900.0   29000.0    .00382    .00019\r\n",
      "    28300.000000    28400.000000           6\r\n",
      "   28500.0   28600.0    .06950    .00347\r\n",
      "   28600.0   28700.0    .04417    .00221\r\n",
      "   28700.0   28800.0    .01416    .00071\r\n",
      "   28800.0   28900.0    .00775    .00039\r\n",
      "   28900.0   29000.0    .00668    .00033\r\n",
      "   29000.0   29100.0    .00417    .00021\r\n",
      "    28400.000000    28500.000000           6\r\n",
      "   28600.0   28700.0    .09125    .00456\r\n",
      "   28700.0   28800.0    .02268    .00113\r\n",
      "   28800.0   28900.0    .01114    .00056\r\n",
      "   28900.0   29000.0    .00918    .00046\r\n",
      "   29000.0   29100.0    .00549    .00027\r\n",
      "   29100.0   29200.0    .00465    .00023\r\n",
      "    28500.000000    28600.000000           5\r\n",
      "   28700.0   28800.0    .04456    .00223\r\n",
      "   28800.0   28900.0    .01671    .00084\r\n",
      "   28900.0   29000.0    .01220    .00061\r\n",
      "   29000.0   29100.0    .00703    .00035\r\n",
      "   29100.0   29200.0    .00578    .00029\r\n",
      "    28600.000000    28700.000000           4\r\n",
      "   28800.0   28900.0    .07480    .00374\r\n",
      "   28900.0   29000.0    .04019    .00201\r\n",
      "   29000.0   29100.0    .02037    .00102\r\n",
      "   29100.0   29200.0    .01586    .00079\r\n",
      "\r\n",
      "\r\n",
      "\r\n"
     ]
    }
   ],
   "source": [
    "!cat {dc_data_file}"
   ]
  },
  {
   "cell_type": "code",
   "execution_count": 4,
   "metadata": {},
   "outputs": [],
   "source": [
    "def read_dcip_data(filename):\n",
    "    \"\"\"\n",
    "    Read in a .OBS file from the Century data set into a python dictionary. \n",
    "    The format is the old UBC-GIF DCIP format.\n",
    "    \n",
    "    Parameters\n",
    "    ----------\n",
    "    filename : str\n",
    "        Path to the file to be parsed\n",
    "    \n",
    "    \n",
    "    Returns\n",
    "    -------\n",
    "    dict\n",
    "        A dictionary with the locations of\n",
    "        - a_locations: the positive source electrode locations (numpy array) \n",
    "        - b_locations: the negative source electrode locations (numpy array) \n",
    "        - m_locations: the receiver locations (list of numpy arrays)\n",
    "        - n_locations: the receiver locations (list of numpy arrays)\n",
    "        - n_locations: the receiver locations (list of numpy arrays)\n",
    "        - observed_data: observed data (list of numpy arrays)\n",
    "        - standard_deviations: assigned standard deviations (list of numpy arrays)\n",
    "        - n_sources: number of sources (int)\n",
    "    \n",
    "    \"\"\"\n",
    "    \n",
    "    # read in the text file as a numpy array of strings (each row is an entry)\n",
    "    contents = np.genfromtxt(filename, delimiter=' \\n', dtype=np.str)\n",
    "    \n",
    "    # the second line has the number of sources, current, and data type (voltages if 1)\n",
    "    n_sources = int(contents[1].split()[0])\n",
    "    print(f\"number of sources: {n_sources}\")\n",
    "    \n",
    "    # initialize storage for the electrode locations and data\n",
    "    a_locations = np.zeros(n_sources)\n",
    "    b_locations = np.zeros(n_sources)\n",
    "    m_locations = []\n",
    "    n_locations = []\n",
    "    observed_data = []\n",
    "    standard_deviations = []\n",
    "    \n",
    "    # index to track where we have read in content \n",
    "    content_index = 1 \n",
    "    \n",
    "    # loop over sources \n",
    "    for i in range(n_sources):\n",
    "        # start by reading in the source info \n",
    "        content_index = content_index + 1  # read the next line\n",
    "        a_location, b_location, nrx = contents[content_index].split()  # this is a string\n",
    "\n",
    "        # convert the strings to a float for locations and an int for the number of receivers\n",
    "        a_locations[i] = float(a_location)\n",
    "        b_locations[i] = float(b_location)\n",
    "        nrx = int(nrx)\n",
    "\n",
    "        print(f\"Source {i}: A-loc: {a_location}, B-loc: {b_location}, N receivers: {nrx}\")\n",
    "\n",
    "        # initialize space for receiver locations, observed data associated with this source\n",
    "        m_locations_i, n_locations_i = np.zeros(nrx), np.zeros(nrx)\n",
    "        observed_data_i, standard_deviations_i = np.zeros(nrx), np.zeros(nrx)\n",
    "\n",
    "        # read in the receiver info \n",
    "        for j in range(nrx):\n",
    "            content_index = content_index + 1  # read the next line\n",
    "            m_location, n_location, datum, std = contents[content_index].split()\n",
    "\n",
    "            # convert the locations and data to floats, and store them\n",
    "            m_locations_i[j] = float(m_location)\n",
    "            n_locations_i[j] = float(n_location)\n",
    "            observed_data_i[j] = float(datum)\n",
    "            standard_deviations_i[j] = float(std)\n",
    "\n",
    "        # append the receiver info to the lists\n",
    "        m_locations.append(m_locations_i)\n",
    "        n_locations.append(n_locations_i)\n",
    "        observed_data.append(observed_data_i)\n",
    "        standard_deviations.append(standard_deviations_i)\n",
    "    \n",
    "    return {\n",
    "        \"a_locations\": a_locations,\n",
    "        \"b_locations\": b_locations, \n",
    "        \"m_locations\": m_locations,\n",
    "        \"n_locations\": n_locations,\n",
    "        \"observed_data\": observed_data, \n",
    "        \"standard_deviations\": standard_deviations,\n",
    "        \"n_sources\": n_sources, \n",
    "    }"
   ]
  },
  {
   "cell_type": "code",
   "execution_count": 5,
   "metadata": {},
   "outputs": [
    {
     "name": "stdout",
     "output_type": "stream",
     "text": [
      "number of sources: 27\n",
      "Source 0: A-loc: 26000.000000, B-loc: 26100.000000, N receivers: 2\n",
      "Source 1: A-loc: 26100.000000, B-loc: 26200.000000, N receivers: 3\n",
      "Source 2: A-loc: 26200.000000, B-loc: 26300.000000, N receivers: 4\n",
      "Source 3: A-loc: 26300.000000, B-loc: 26400.000000, N receivers: 5\n",
      "Source 4: A-loc: 26400.000000, B-loc: 26500.000000, N receivers: 6\n",
      "Source 5: A-loc: 26500.000000, B-loc: 26600.000000, N receivers: 7\n",
      "Source 6: A-loc: 26600.000000, B-loc: 26700.000000, N receivers: 7\n",
      "Source 7: A-loc: 26700.000000, B-loc: 26800.000000, N receivers: 6\n",
      "Source 8: A-loc: 26800.000000, B-loc: 26900.000000, N receivers: 6\n",
      "Source 9: A-loc: 26900.000000, B-loc: 27000.000000, N receivers: 6\n",
      "Source 10: A-loc: 27000.000000, B-loc: 27100.000000, N receivers: 6\n",
      "Source 11: A-loc: 27100.000000, B-loc: 27200.000000, N receivers: 6\n",
      "Source 12: A-loc: 27200.000000, B-loc: 27300.000000, N receivers: 6\n",
      "Source 13: A-loc: 27300.000000, B-loc: 27400.000000, N receivers: 6\n",
      "Source 14: A-loc: 27400.000000, B-loc: 27500.000000, N receivers: 6\n",
      "Source 15: A-loc: 27500.000000, B-loc: 27600.000000, N receivers: 6\n",
      "Source 16: A-loc: 27600.000000, B-loc: 27700.000000, N receivers: 6\n",
      "Source 17: A-loc: 27700.000000, B-loc: 27800.000000, N receivers: 6\n",
      "Source 18: A-loc: 27800.000000, B-loc: 27900.000000, N receivers: 6\n",
      "Source 19: A-loc: 27900.000000, B-loc: 28000.000000, N receivers: 6\n",
      "Source 20: A-loc: 28000.000000, B-loc: 28100.000000, N receivers: 6\n",
      "Source 21: A-loc: 28100.000000, B-loc: 28200.000000, N receivers: 6\n",
      "Source 22: A-loc: 28200.000000, B-loc: 28300.000000, N receivers: 6\n",
      "Source 23: A-loc: 28300.000000, B-loc: 28400.000000, N receivers: 6\n",
      "Source 24: A-loc: 28400.000000, B-loc: 28500.000000, N receivers: 6\n",
      "Source 25: A-loc: 28500.000000, B-loc: 28600.000000, N receivers: 5\n",
      "Source 26: A-loc: 28600.000000, B-loc: 28700.000000, N receivers: 4\n"
     ]
    }
   ],
   "source": [
    "# sanity check \n",
    "dc_data_dict = read_dcip_data(dc_data_file)"
   ]
  },
  {
   "cell_type": "markdown",
   "metadata": {},
   "source": [
    "## Create a SimPEG survey"
   ]
  },
  {
   "cell_type": "code",
   "execution_count": 6,
   "metadata": {},
   "outputs": [],
   "source": [
    "source_list = []\n",
    "\n",
    "for i in range(dc_data_dict[\"n_sources\"]):\n",
    "    m_locs = np.vstack([\n",
    "        dc_data_dict[\"m_locations\"][i], \n",
    "        np.zeros_like(dc_data_dict[\"m_locations\"][i])\n",
    "    ]).T\n",
    "    n_locs = np.vstack([\n",
    "        dc_data_dict[\"n_locations\"][i],\n",
    "        np.zeros_like(dc_data_dict[\"n_locations\"][i])\n",
    "    ]).T\n",
    "    \n",
    "    receivers = dc.receivers.Dipole(\n",
    "        m_locations=m_locs, n_locations=n_locs,\n",
    "    )\n",
    "    \n",
    "    source = dc.sources.Dipole(\n",
    "        a_location=np.r_[dc_data_dict[\"a_locations\"][i], 0.],\n",
    "        b_location=np.r_[dc_data_dict[\"b_locations\"][i], 0.],\n",
    "        receiver_list=[receivers]\n",
    "    )\n",
    "    \n",
    "    source_list.append(source)"
   ]
  },
  {
   "cell_type": "code",
   "execution_count": 7,
   "metadata": {},
   "outputs": [],
   "source": [
    "survey = dc.Survey(source_list=source_list)"
   ]
  },
  {
   "cell_type": "code",
   "execution_count": 8,
   "metadata": {},
   "outputs": [],
   "source": [
    "tmp = survey.source_list[0].receiver_list[0].locations"
   ]
  },
  {
   "cell_type": "markdown",
   "metadata": {},
   "source": [
    "## Observed Data "
   ]
  },
  {
   "cell_type": "code",
   "execution_count": 9,
   "metadata": {},
   "outputs": [],
   "source": [
    "observed_data = Data(\n",
    "    survey=survey, \n",
    "    dobs=np.hstack(dc_data_dict[\"observed_data\"]),\n",
    "    standard_deviation=np.hstack(dc_data_dict[\"standard_deviations\"])\n",
    ")"
   ]
  },
  {
   "cell_type": "code",
   "execution_count": 95,
   "metadata": {},
   "outputs": [],
   "source": [
    "def plot_building_pseudosection(source_ind):\n",
    "    \n",
    "    fig, ax = plt.subplots(1, 1, figsize=(12, 4))\n",
    "    mid_x, mid_z = dc.utils.source_receiver_midpoints(observed_data.survey)\n",
    "    ax.plot(mid_x, mid_z, '.k', alpha=0.5)\n",
    "    \n",
    "    # plot the source location\n",
    "    a_loc = dc_data_dict[\"a_locations\"][source_ind]\n",
    "    b_loc = dc_data_dict[\"b_locations\"][source_ind]\n",
    "    src_mid = (a_loc+b_loc)/2\n",
    "    ax.plot(np.r_[a_loc, b_loc], np.r_[0, 0], 'C0.')\n",
    "    ax.plot(src_mid, np.r_[0], 'C0x', ms=6)\n",
    "\n",
    "    # plot the receiver locations\n",
    "    m_locs = dc_data_dict[\"m_locations\"][source_ind]\n",
    "    n_locs = dc_data_dict[\"n_locations\"][source_ind]\n",
    "    rx_mid = (m_locs+n_locs)/2\n",
    "    ax.plot(np.r_[m_locs, n_locs], np.zeros(2*len(m_locs)), 'C1.')\n",
    "    ax.plot(rx_mid, np.zeros_like(m_locs), 'C1x', ms=6)\n",
    "    \n",
    "    # plot where the pseudosection points should be \n",
    "    pseudo_x = (rx_mid + src_mid)/2.\n",
    "    pseudo_z = -np.abs(rx_mid-src_mid)/2.\n",
    "    \n",
    "    ax.plot(np.r_[src_mid, pseudo_x], np.r_[0, pseudo_z], '-k', alpha=0.3)\n",
    "    \n",
    "    for rx_x, px, pz in zip(rx_mid, pseudo_x, pseudo_z): \n",
    "        ax.plot(np.r_[px, rx_x], np.r_[pz, 0], '-k', alpha=0.3)\n",
    "        \n",
    "    ax.plot(pseudo_x, pseudo_z, 'C2o')\n",
    "    \n",
    "    ax.set_xlim([25900, 29200])\n",
    "    ax.set_aspect(1.5)\n",
    "    "
   ]
  },
  {
   "cell_type": "code",
   "execution_count": 96,
   "metadata": {},
   "outputs": [
    {
     "data": {
      "application/vnd.jupyter.widget-view+json": {
       "model_id": "015bce99ca5e4aeb872049f76f67f790",
       "version_major": 2,
       "version_minor": 0
      },
      "text/plain": [
       "interactive(children=(IntSlider(value=0, description='source_ind', max=27), Output()), _dom_classes=('widget-i…"
      ]
     },
     "metadata": {},
     "output_type": "display_data"
    },
    {
     "data": {
      "text/plain": [
       "<function __main__.plot_building_pseudosection(source_ind)>"
      ]
     },
     "execution_count": 96,
     "metadata": {},
     "output_type": "execute_result"
    }
   ],
   "source": [
    "ipywidgets.interact(\n",
    "    plot_building_pseudosection, \n",
    "    source_ind=ipywidgets.IntSlider(min=0, max=int(dc_data_dict[\"n_sources\"]), value=0)\n",
    ")"
   ]
  },
  {
   "cell_type": "code",
   "execution_count": 45,
   "metadata": {},
   "outputs": [
    {
     "name": "stderr",
     "output_type": "stream",
     "text": [
      "/Users/lindseyjh/git/python_symlinks/SimPEG/electromagnetics/static/utils/static_utils.py:423: MatplotlibDeprecationWarning: \n",
      "The get_clim function was deprecated in Matplotlib 3.1 and will be removed in 3.3. Use ScalarMappable.get_clim instead.\n",
      "  cmin, cmax = cbar.get_clim()\n"
     ]
    },
    {
     "data": {
      "text/plain": [
       "<matplotlib.axes._subplots.AxesSubplot at 0x1397506d8>"
      ]
     },
     "execution_count": 45,
     "metadata": {},
     "output_type": "execute_result"
    },
    {
     "data": {
      "image/png": "[encoded data removed]",
      "text/plain": [
       "<Figure size 1080x216 with 2 Axes>"
      ]
     },
     "metadata": {
      "needs_background": "light"
     },
     "output_type": "display_data"
    }
   ],
   "source": [
    "# plot psuedosection\n",
    "dc.utils.plot_pseudosection(observed_data, data_location=True)"
   ]
  },
  {
   "cell_type": "code",
   "execution_count": 11,
   "metadata": {},
   "outputs": [],
   "source": [
    "# forward simulation "
   ]
  },
  {
   "cell_type": "code",
   "execution_count": 12,
   "metadata": {},
   "outputs": [],
   "source": [
    "# run the forward simulation over the half-space & plot apparent resistivities"
   ]
  },
  {
   "cell_type": "code",
   "execution_count": 13,
   "metadata": {},
   "outputs": [],
   "source": [
    "# set up inversion "
   ]
  },
  {
   "cell_type": "code",
   "execution_count": 14,
   "metadata": {},
   "outputs": [],
   "source": [
    "# run inversion, plot tikhonov curves"
   ]
  },
  {
   "cell_type": "code",
   "execution_count": 15,
   "metadata": {},
   "outputs": [],
   "source": [
    "# (depth of investigation?)"
   ]
  },
  {
   "cell_type": "code",
   "execution_count": 16,
   "metadata": {},
   "outputs": [],
   "source": [
    "# repeat for IP"
   ]
  },
  {
   "cell_type": "code",
   "execution_count": null,
   "metadata": {},
   "outputs": [],
   "source": []
  }
 ],
 "metadata": {
  "kernelspec": {
   "display_name": "Python 3",
   "language": "python",
   "name": "python3"
  },
  "language_info": {
   "codemirror_mode": {
    "name": "ipython",
    "version": 3
   },
   "file_extension": ".py",
   "mimetype": "text/x-python",
   "name": "python",
   "nbconvert_exporter": "python",
   "pygments_lexer": "ipython3",
   "version": "3.7.3"
  }
 },
 "nbformat": 4,
 "nbformat_minor": 4
}
